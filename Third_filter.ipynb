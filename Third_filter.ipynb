{
 "cells": [
  {
   "cell_type": "markdown",
   "metadata": {},
   "source": [
    "# 🧠 Analyse purement visuelle (sans texte)\n",
    "Dans certains cas, les images contiennent :\n",
    "\n",
    "Des symboles haineux (croix gammée, logos extrémistes, etc.)\n",
    "\n",
    "Des gestes violents / offensants\n",
    "\n",
    "Des visuels incitant à la haine (lynchages, violences)"
   ]
  },
  {
   "cell_type": "code",
   "execution_count": 10,
   "metadata": {},
   "outputs": [
    {
     "name": "stdout",
     "output_type": "stream",
     "text": [
      "The autoreload extension is already loaded. To reload it, use:\n",
      "  %reload_ext autoreload\n"
     ]
    }
   ],
   "source": [
    "import Implementation as imp\n",
    "%load_ext autoreload\n",
    "%autoreload 2"
   ]
  },
  {
   "cell_type": "code",
   "execution_count": 2,
   "metadata": {},
   "outputs": [
    {
     "data": {
      "text/plain": [
       "[['0:00:07', '0:00:17'],\n",
       " ['0:00:25', '0:00:31'],\n",
       " ['0:00:33', '0:00:39'],\n",
       " ['0:00:47', '0:00:53']]"
      ]
     },
     "execution_count": 2,
     "metadata": {},
     "output_type": "execute_result"
    }
   ],
   "source": [
    "imp.detect_hate_speech_CLIP(\n",
    "    video_path=\"data/Videos/hate_videos/hate_video_1.mp4\",\n",
    "    sampling_time_froid=10,\n",
    "    sampling_time_chaud=2,\n",
    "    time_to_recover=15,\n",
    "    merge_final_snippet_time=3,\n",
    "    detect_visual_hate_clip=imp.detect_visual_hate_clip,\n",
    "    skip_intervals= None\n",
    ")\n",
    "\n",
    "# Filtre audio useless MAIS hate_video_1.mp4,Hate,\"[['00:00:34', '00:01:34']]\",Blacks,True,"
   ]
  },
  {
   "cell_type": "code",
   "execution_count": 4,
   "metadata": {},
   "outputs": [
    {
     "data": {
      "text/plain": [
       "[['0:00:00', '0:00:38']]"
      ]
     },
     "execution_count": 4,
     "metadata": {},
     "output_type": "execute_result"
    }
   ],
   "source": [
    "imp.detect_hate_speech_CLIP(\n",
    "    video_path=\"data/Videos/hate_videos/hate_video_10.mp4\",\n",
    "    sampling_time_froid=10,\n",
    "    sampling_time_chaud=2,\n",
    "    time_to_recover=15,\n",
    "    merge_final_snippet_time=3,\n",
    "    detect_visual_hate_clip=imp.detect_visual_hate_clip,\n",
    "    skip_intervals= None\n",
    ")\n",
    "\n",
    "# Filtre audio useless MAIS hate_video_10.mp4,Hate,\"[['00:00:00', '00:00:38']]\",Blacks,True,"
   ]
  },
  {
   "cell_type": "code",
   "execution_count": 3,
   "metadata": {},
   "outputs": [
    {
     "data": {
      "text/plain": [
       "[['0:00:17', '0:01:35'], ['0:01:37', '0:02:39'], ['0:02:41', '0:03:07']]"
      ]
     },
     "execution_count": 3,
     "metadata": {},
     "output_type": "execute_result"
    }
   ],
   "source": [
    "imp.detect_hate_speech_CLIP(\n",
    "    video_path=\"data/Videos/hate_videos/hate_video_425.mp4\",\n",
    "    sampling_time_froid=10,\n",
    "    sampling_time_chaud=2,\n",
    "    time_to_recover=15,\n",
    "    merge_final_snippet_time=3,\n",
    "    detect_visual_hate_clip=imp.detect_visual_hate_clip,\n",
    "    skip_intervals= None\n",
    ")\n",
    "\n",
    "# filtre symbome useless MAIS hate_video_425.mp4,Hate,\"[['00:00:29', '00:03:09']]\",\"['Blacks', 'Whites']\""
   ]
  },
  {
   "cell_type": "code",
   "execution_count": 6,
   "metadata": {},
   "outputs": [
    {
     "name": "stderr",
     "output_type": "stream",
     "text": [
      "Downloading: \"https://github.com/snakers4/silero-vad/zipball/master\" to /home/zeus/.cache/torch/hub/master.zip\n",
      "WARNING:easyocr.easyocr:Neither CUDA nor MPS are available - defaulting to CPU. Note: This module is much faster with a GPU.\n",
      "Device set to use cpu\n"
     ]
    },
    {
     "data": {
      "text/plain": [
       "[['0:00:00', '0:00:09'], ['0:00:17', '0:00:23']]"
      ]
     },
     "execution_count": 6,
     "metadata": {},
     "output_type": "execute_result"
    }
   ],
   "source": [
    "imp.detect_hate_speech_CLIP(\n",
    "    video_path=\"test/non_hate_video_1.mp4\",\n",
    "    sampling_time_froid=10,\n",
    "    sampling_time_chaud=2,\n",
    "    time_to_recover=15,\n",
    "    merge_final_snippet_time=3,\n",
    "    detect_visual_hate_clip=imp.detect_visual_hate_clip,\n",
    "    skip_intervals= None\n",
    ")"
   ]
  },
  {
   "cell_type": "code",
   "execution_count": 12,
   "metadata": {},
   "outputs": [
    {
     "name": "stdout",
     "output_type": "stream",
     "text": [
      "✅ Audio extracted successfully : Audio.wav\n",
      "✅ Audio cleaned : Audio_cleaned.wav\n",
      "✅ Filter 1 : Hate speech detection in audio done !\n",
      "✅ Filter 2 : Hate speech detection using text embedding done !\n",
      "✅ Filter 3 : Hate speech detection using text from image done !\n",
      "✅ All filters done ! [['00:00:07', '00:00:16'], ['00:00:30', '00:01:02'], ['00:01:12', '00:01:24'], ['00:01:27', '00:01:34']] Hate speech detected ! C02 emissions :  0.0002677904270187898\n"
     ]
    },
    {
     "name": "stderr",
     "output_type": "stream",
     "text": [
      "/home/zeus/miniconda3/envs/cloudspace/lib/python3.10/site-packages/codecarbon/output_methods/file.py:52: FutureWarning: The behavior of DataFrame concatenation with empty or all-NA entries is deprecated. In a future version, this will no longer exclude empty or all-NA columns when determining the result dtypes. To retain the old behavior, exclude the relevant entries before the concat operation.\n",
      "  df = pd.concat([df, pd.DataFrame.from_records([dict(total.values)])])\n"
     ]
    }
   ],
   "source": [
    "snippet, co2 = imp.detectHateSpeechSmartFilter(\"test/hate_video_1.mp4\")"
   ]
  },
  {
   "cell_type": "code",
   "execution_count": 13,
   "metadata": {},
   "outputs": [
    {
     "data": {
      "text/plain": [
       "[['00:00:07', '00:00:16'],\n",
       " ['00:00:30', '00:01:02'],\n",
       " ['00:01:12', '00:01:24'],\n",
       " ['00:01:27', '00:01:34']]"
      ]
     },
     "execution_count": 13,
     "metadata": {},
     "output_type": "execute_result"
    }
   ],
   "source": [
    "snippet"
   ]
  },
  {
   "cell_type": "code",
   "execution_count": 9,
   "metadata": {},
   "outputs": [
    {
     "name": "stdout",
     "output_type": "stream",
     "text": [
      "0.00018172019143711748\n"
     ]
    }
   ],
   "source": [
    "print(co2)"
   ]
  }
 ],
 "metadata": {
  "language_info": {
   "name": "python"
  }
 },
 "nbformat": 4,
 "nbformat_minor": 2
}
