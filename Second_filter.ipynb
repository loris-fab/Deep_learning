{
 "cells": [
  {
   "cell_type": "markdown",
   "metadata": {},
   "source": [
    "# Filtre (OCR + NLP)"
   ]
  },
  {
   "cell_type": "markdown",
   "metadata": {},
   "source": [
    "📸 1. Texte dans les images (OCR + NLP)\n",
    "Beaucoup de discours haineux visuels passent par du texte intégré dans l’image (mèmes, pancartes, posts, etc.).\n",
    "\n",
    "📌 Pipeline classique :\n",
    "OCR (Reconnaissance de texte) : Extrait le texte de l’image\n",
    "Analyse du texte extrait avec un modèle NLP (comme BERT, RoBERTa, etc.) avec model hate speach"
   ]
  },
  {
   "cell_type": "markdown",
   "metadata": {},
   "source": []
  },
  {
   "cell_type": "code",
   "execution_count": 5,
   "metadata": {},
   "outputs": [
    {
     "name": "stdout",
     "output_type": "stream",
     "text": [
      "The autoreload extension is already loaded. To reload it, use:\n",
      "  %reload_ext autoreload\n"
     ]
    }
   ],
   "source": [
    "import Implementation as imp\n",
    "\n",
    "%load_ext autoreload\n",
    "%autoreload 2"
   ]
  },
  {
   "cell_type": "markdown",
   "metadata": {},
   "source": [
    "# Exemples"
   ]
  },
  {
   "cell_type": "code",
   "execution_count": null,
   "metadata": {},
   "outputs": [
    {
     "data": {
      "text/plain": [
       "[['0:00:30', '0:01:02']]"
      ]
     },
     "execution_count": 3,
     "metadata": {},
     "output_type": "execute_result"
    }
   ],
   "source": [
    "imp.detect_hate_speech_OCR(\n",
    "    video_path= \"data/Videos/hate_videos/hate_video_1.mp4\",\n",
    "    sampling_time_froid = 2,\n",
    "    sampling_time_chaud = 1,\n",
    "    time_to_recover = 20,\n",
    "    merge_final_snippet_time = 4,\n",
    "    detect_hate_speech_in_image=imp.detect_hate_speech_in_image,\n",
    "    skip_intervals=None  \n",
    ")"
   ]
  },
  {
   "cell_type": "code",
   "execution_count": 2,
   "metadata": {},
   "outputs": [
    {
     "data": {
      "text/plain": [
       "[['0:00:30', '0:01:02']]"
      ]
     },
     "execution_count": 2,
     "metadata": {},
     "output_type": "execute_result"
    }
   ],
   "source": [
    "imp.approximate_hate_speech_from_text_from_image(\n",
    "    video_path=\"data/Videos/hate_videos/hate_video_1.mp4\",\n",
    "    sampling_time_froid=2,\n",
    "    sampling_time_chaud=1,\n",
    "    time_to_recover=20,\n",
    "    merge_final_snippet_time=4,\n",
    "    detect_hate_speech_in_image= imp.detect_hate_speech_in_image\n",
    ")"
   ]
  },
  {
   "cell_type": "code",
   "execution_count": 15,
   "metadata": {},
   "outputs": [
    {
     "data": {
      "text/plain": [
       "[]"
      ]
     },
     "execution_count": 15,
     "metadata": {},
     "output_type": "execute_result"
    }
   ],
   "source": [
    "imp.approximate_hate_speech_from_text_from_image(\n",
    "    video_path=\"data/Videos/hate_videos/hate_video_2.mp4\",\n",
    "    sampling_time_froid=2,\n",
    "    sampling_time_chaud=1,\n",
    "    time_to_recover=20,\n",
    "    merge_final_snippet_time=4,\n",
    "    detect_hate_speech_in_image= imp.detect_hate_speech_in_image\n",
    ")"
   ]
  },
  {
   "cell_type": "code",
   "execution_count": 16,
   "metadata": {},
   "outputs": [
    {
     "data": {
      "text/plain": [
       "[['0:01:14', '0:01:22'], ['0:02:02', '0:02:08']]"
      ]
     },
     "execution_count": 16,
     "metadata": {},
     "output_type": "execute_result"
    }
   ],
   "source": [
    "imp.approximate_hate_speech_from_text_from_image(\n",
    "    video_path=\"data/Videos/hate_videos/hate_video_16.mp4\",\n",
    "    sampling_time_froid=2,\n",
    "    sampling_time_chaud=1,\n",
    "    time_to_recover=20,\n",
    "    merge_final_snippet_time=4,\n",
    "    detect_hate_speech_in_image= imp.detect_hate_speech_in_image\n",
    ")"
   ]
  },
  {
   "cell_type": "code",
   "execution_count": null,
   "metadata": {},
   "outputs": [],
   "source": []
  }
 ],
 "metadata": {
  "language_info": {
   "name": "python"
  }
 },
 "nbformat": 4,
 "nbformat_minor": 2
}
